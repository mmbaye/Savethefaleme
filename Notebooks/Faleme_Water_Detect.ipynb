{
 "cells": [
  {
   "cell_type": "code",
   "execution_count": 1,
   "metadata": {},
   "outputs": [],
   "source": [
    "import geemap\n",
    "import ee"
   ]
  },
  {
   "cell_type": "code",
   "execution_count": 2,
   "metadata": {},
   "outputs": [
    {
     "data": {
      "text/html": [
       "<p>To authorize access needed by Earth Engine, open the following\n",
       "        URL in a web browser and follow the instructions:</p>\n",
       "        <p><a href=https://code.earthengine.google.com/client-auth?scopes=https%3A//www.googleapis.com/auth/earthengine%20https%3A//www.googleapis.com/auth/devstorage.full_control&request_id=W_99MihxVcvFtaABskk5A3PrY8VB0VQRaeETdxrrySc&tc=FzeLc26_SisricGjPlLVe2cHW4TXLQDI1XRyJYYkya4&cc=TGE-Wfi6qErsxU0bryS97eF5LS9R18WMbDYe-Y9Qw8k>https://code.earthengine.google.com/client-auth?scopes=https%3A//www.googleapis.com/auth/earthengine%20https%3A//www.googleapis.com/auth/devstorage.full_control&request_id=W_99MihxVcvFtaABskk5A3PrY8VB0VQRaeETdxrrySc&tc=FzeLc26_SisricGjPlLVe2cHW4TXLQDI1XRyJYYkya4&cc=TGE-Wfi6qErsxU0bryS97eF5LS9R18WMbDYe-Y9Qw8k</a></p>\n",
       "        <p>The authorization workflow will generate a code, which you should paste in the box below.</p>\n",
       "        "
      ],
      "text/plain": [
       "<IPython.core.display.HTML object>"
      ]
     },
     "metadata": {},
     "output_type": "display_data"
    },
    {
     "name": "stdout",
     "output_type": "stream",
     "text": [
      "\n",
      "Successfully saved authorization token.\n"
     ]
    }
   ],
   "source": [
    "# Initialiser GEE avec son compte\n",
    "ee.Authenticate()\n",
    "ee.Initialize()"
   ]
  },
  {
   "cell_type": "code",
   "execution_count": 3,
   "metadata": {},
   "outputs": [],
   "source": [
    "Map = geemap.Map(center=[12.5, -13.5], zoom=8)\n",
    "Map.add_basemap('SATELLITE')"
   ]
  },
  {
   "cell_type": "code",
   "execution_count": 18,
   "metadata": {},
   "outputs": [],
   "source": [
    "hydrobasins = ee.FeatureCollection(\"WWF/HydroSHEDS/v1/Basins/hybas_7\")\n",
    "faleme_basin = ee.Filter.inList('HYBAS_ID', [1070678260, 1070632050 , 1070677870, 1070720030, 1070717290,1070717070,1070720020, 1070713070])\n",
    "\n",
    "faleme = hydrobasins.filter(faleme_basin)\n",
    "\n",
    "Map.addLayer(faleme, {}, \"Falémé\")"
   ]
  },
  {
   "cell_type": "code",
   "execution_count": 19,
   "metadata": {},
   "outputs": [],
   "source": [
    "faleme_geometry = faleme.geometry()"
   ]
  },
  {
   "cell_type": "code",
   "execution_count": 21,
   "metadata": {},
   "outputs": [
    {
     "data": {
      "application/vnd.jupyter.widget-view+json": {
       "model_id": "9ec3f43e409543e994d6e954fe635781",
       "version_major": 2,
       "version_minor": 0
      },
      "text/plain": [
       "Map(bottom=30594.0, center=[13.464421817388486, -11.513671875000002], controls=(WidgetControl(options=['positi…"
      ]
     },
     "metadata": {},
     "output_type": "display_data"
    }
   ],
   "source": [
    "# Ajouter une collection d'image GEE\n",
    "sentinel2 = ee.ImageCollection(\"COPERNICUS/S2_SR_HARMONIZED\").filter(\n",
    "    ee.Filter.date('2016-01-01','2016-12-31')\n",
    ").filter(ee.Filter.lt('CLOUDY_PIXEL_PERCENTAGE',100)).filterBounds(faleme_geometry).median().clip(faleme_geometry)\n",
    "\n",
    "# Paramètres de visualisation \n",
    "vis = {\n",
    "    \"min\": 0.0,\n",
    "    \"max\": 7000,\n",
    "    \"bands\": [\"B4\", \"B3\", \"B2\"],\n",
    "}\n",
    "Map.addLayer(sentinel2, vis, 'Sentinel-2')\n",
    "Map"
   ]
  },
  {
   "cell_type": "code",
   "execution_count": null,
   "metadata": {},
   "outputs": [],
   "source": [
    "waterThreshold = 0\n",
    "def waterfunction(image):\n",
    "    ndvi = image.clip(faleme_geometry).normalizedDifference(['B8', 'B4']).rename('NDVI')\n",
    "    ndwi = image.clip(faleme_geometry).normalizedDifference(['B3','B8']).rename('NDWI')\n",
    "    water01 = ndwi.lt(waterThreshold)\n",
    "    image = image.updateMask(water01).addBands(ndvi)\n",
    "    \n",
    "    area = ee.Image.pixelArea()\n",
    "    waterArea = water01.multiply(area).rename('waterArea')\n",
    "    image = image.addBands(waterArea)\n",
    "    \n",
    "    stats = waterArea.reduceRegion(\n",
    "        reducer = ee.Reducer.sum(),\n",
    "        geometry = faleme_geometry,\n",
    "        scale = 30,\n",
    "        maxPixels = 1e13\n",
    "        )\n",
    "        \n",
    "    return image.set(stats)\n",
    "        \n",
    "collection = sentinel2.map(waterfunction)\n",
    "print(\"Sentinel 2 collection\", collection)\n"
   ]
  },
  {
   "cell_type": "code",
   "execution_count": 17,
   "metadata": {},
   "outputs": [
    {
     "data": {
      "application/vnd.jupyter.widget-view+json": {
       "model_id": "7a75f1099bd0484d8da3e3a22cff477b",
       "version_major": 2,
       "version_minor": 0
      },
      "text/plain": [
       "Map(center=[12.5, -13.5], controls=(WidgetControl(options=['position', 'transparent_bg'], widget=HBox(children…"
      ]
     },
     "metadata": {},
     "output_type": "display_data"
    }
   ],
   "source": [
    "mp = geemap.Map(center=[12.5, -13.5], zoom=8)\n",
    "mp.add_basemap('SATELLITE')\n",
    "mp.addLayer(faleme_geometry, {}, \"Falémé\")\n",
    "mp.addLayer(collection, {'min': -1, 'max': 1, 'palette': ['red', 'yellow', 'green']}, 'water detected')\n",
    "mp"
   ]
  },
  {
   "cell_type": "code",
   "execution_count": null,
   "metadata": {},
   "outputs": [
    {
     "name": "stdout",
     "output_type": "stream",
     "text": [
      "Superficie totale d'eau: 1701.186279296875 m²\n"
     ]
    }
   ],
   "source": [
    "# Appliquer un seuil au NDWI pour détecter l'eau\n",
    "water_mask = ndwi.gt(0)\n",
    "\n",
    "# Calculer les superficies d'eau en mètres carrés\n",
    "water_area = water_mask.multiply(ee.Image.pixelArea())\n",
    "\n",
    "# Réduire la région pour obtenir la superficie totale d'eau\n",
    "total_water_area = water_area.reduceRegion(\n",
    "    reducer=ee.Reducer.sum(),\n",
    "    geometry=water_mask.geometry(),\n",
    "    scale=10,  # Résolution en mètres\n",
    "    bestEffort=True  # Utiliser la meilleure résolution possible pour respecter la limite de pixels\n",
    ")\n",
    "\n",
    "# Obtenir la valeur totale de la superficie d'eau\n",
    "total_water_area_value = total_water_area.get('nd').getInfo()\n",
    "\n",
    "print(f\"Superficie totale d'eau: {total_water_area_value} m²\")"
   ]
  },
  {
   "cell_type": "code",
   "execution_count": null,
   "metadata": {},
   "outputs": [
    {
     "data": {
      "application/vnd.jupyter.widget-view+json": {
       "model_id": "13bdf8f3f8ad490ca4becf02ee32eed1",
       "version_major": 2,
       "version_minor": 0
      },
      "text/plain": [
       "Map(center=[12.5, -13.5], controls=(WidgetControl(options=['position', 'transparent_bg'], widget=HBox(children…"
      ]
     },
     "metadata": {},
     "output_type": "display_data"
    }
   ],
   "source": [
    "# Ajouter les surface d'eau à la carte\n",
    "Map_area = geemap.Map(center=[12.5, -13.5], zoom=8)\n",
    "Map_area.add_basemap('SATELLITE')\n",
    "Map_area.addLayer(faleme_geometry, {}, \"Falémé\")\n",
    "Map_area.addLayer(water_area, {'min': -1, 'max': 1, 'palette': ['blue']}, 'Water area')\n",
    "Map_area"
   ]
  },
  {
   "cell_type": "code",
   "execution_count": null,
   "metadata": {},
   "outputs": [],
   "source": []
  }
 ],
 "metadata": {
  "kernelspec": {
   "display_name": "Python 3",
   "language": "python",
   "name": "python3"
  },
  "language_info": {
   "codemirror_mode": {
    "name": "ipython",
    "version": 3
   },
   "file_extension": ".py",
   "mimetype": "text/x-python",
   "name": "python",
   "nbconvert_exporter": "python",
   "pygments_lexer": "ipython3",
   "version": "3.9.16"
  }
 },
 "nbformat": 4,
 "nbformat_minor": 2
}
